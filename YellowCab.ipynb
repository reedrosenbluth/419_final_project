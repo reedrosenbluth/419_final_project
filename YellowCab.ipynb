{
 "cells": [
  {
   "cell_type": "markdown",
   "metadata": {},
   "source": [
    "# Learning from Yellow Taxi Data"
   ]
  },
  {
   "cell_type": "code",
   "execution_count": 1,
   "metadata": {
    "collapsed": false
   },
   "outputs": [],
   "source": [
    "import sys\n",
    "import numpy as np\n",
    "import scipy as sp\n",
    "import pandas as pd"
   ]
  },
  {
   "cell_type": "markdown",
   "metadata": {},
   "source": [
    "VendorID,tpep_pickup_datetime,tpep_dropoff_datetime,passenger_count,trip_distance,pickup_longitude,pickup_latitude,RatecodeID,store_and_fwd_flag,dropoff_longitude,dropoff_latitude,payment_type,fare_amount,extra,mta_tax,tip_amount,tolls_amount,improvement_surcharge,total_amount"
   ]
  },
  {
   "cell_type": "code",
   "execution_count": 2,
   "metadata": {
    "collapsed": false
   },
   "outputs": [
    {
     "name": "stdout",
     "output_type": "stream",
     "text": [
      "(10906858, 19)\n"
     ]
    }
   ],
   "source": [
    "taxi_data = pd.read_csv(\"./data/2016-01.csv\", header=0)\n",
    "print taxi_data.shape"
   ]
  },
  {
   "cell_type": "code",
   "execution_count": 3,
   "metadata": {
    "collapsed": false
   },
   "outputs": [
    {
     "name": "stdout",
     "output_type": "stream",
     "text": [
      "   VendorID tpep_pickup_datetime tpep_dropoff_datetime  passenger_count  \\\n",
      "0         2  2016-01-01 00:00:00   2016-01-01 00:00:00                2   \n",
      "1         2  2016-01-01 00:00:00   2016-01-01 00:00:00                5   \n",
      "2         2  2016-01-01 00:00:00   2016-01-01 00:00:00                1   \n",
      "3         2  2016-01-01 00:00:00   2016-01-01 00:00:00                1   \n",
      "4         2  2016-01-01 00:00:00   2016-01-01 00:00:00                3   \n",
      "\n",
      "   trip_distance  pickup_longitude  pickup_latitude  RatecodeID  \\\n",
      "0           1.10        -73.990372        40.734695           1   \n",
      "1           4.90        -73.980782        40.729912           1   \n",
      "2          10.54        -73.984550        40.679565           1   \n",
      "3           4.75        -73.993469        40.718990           1   \n",
      "4           1.76        -73.960625        40.781330           1   \n",
      "\n",
      "  store_and_fwd_flag  dropoff_longitude  dropoff_latitude  payment_type  \\\n",
      "0                  N         -73.981842         40.732407             2   \n",
      "1                  N         -73.944473         40.716679             1   \n",
      "2                  N         -73.950272         40.788925             1   \n",
      "3                  N         -73.962242         40.657333             2   \n",
      "4                  N         -73.977264         40.758514             2   \n",
      "\n",
      "   fare_amount  extra  mta_tax  tip_amount  tolls_amount  \\\n",
      "0          7.5    0.5      0.5         0.0           0.0   \n",
      "1         18.0    0.5      0.5         0.0           0.0   \n",
      "2         33.0    0.5      0.5         0.0           0.0   \n",
      "3         16.5    0.0      0.5         0.0           0.0   \n",
      "4          8.0    0.0      0.5         0.0           0.0   \n",
      "\n",
      "   improvement_surcharge  total_amount  \n",
      "0                    0.3           8.8  \n",
      "1                    0.3          19.3  \n",
      "2                    0.3          34.3  \n",
      "3                    0.3          17.3  \n",
      "4                    0.3           8.8  \n"
     ]
    }
   ],
   "source": [
    "print taxi_data.head()"
   ]
  },
  {
   "cell_type": "code",
   "execution_count": null,
   "metadata": {
    "collapsed": true
   },
   "outputs": [],
   "source": []
  }
 ],
 "metadata": {
  "kernelspec": {
   "display_name": "Python 2",
   "language": "python",
   "name": "python2"
  },
  "language_info": {
   "codemirror_mode": {
    "name": "ipython",
    "version": 2
   },
   "file_extension": ".py",
   "mimetype": "text/x-python",
   "name": "python",
   "nbconvert_exporter": "python",
   "pygments_lexer": "ipython2",
   "version": "2.7.12"
  }
 },
 "nbformat": 4,
 "nbformat_minor": 2
}
