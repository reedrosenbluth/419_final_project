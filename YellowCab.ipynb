{
 "cells": [
  {
   "cell_type": "markdown",
   "metadata": {},
   "source": [
    "# Learning from Yellow Taxi Data"
   ]
  },
  {
   "cell_type": "code",
   "execution_count": 31,
   "metadata": {
    "collapsed": false
   },
   "outputs": [],
   "source": [
    "import random\n",
    "import numpy as np\n",
    "import pandas as pd\n",
    "import matplotlib.pyplot as plt\n",
    "from datetime import datetime\n",
    "from sklearn.model_selection import train_test_split, GridSearchCV\n",
    "from sklearn.ensemble import RandomForestRegressor\n",
    "from sklearn.ensemble import AdaBoostClassifier\n",
    "from sklearn.cluster import KMeans"
   ]
  },
  {
   "cell_type": "markdown",
   "metadata": {},
   "source": [
    "### Load the data"
   ]
  },
  {
   "cell_type": "code",
   "execution_count": 32,
   "metadata": {
    "collapsed": false,
    "scrolled": true
   },
   "outputs": [],
   "source": [
    "taxidata = pd.read_csv(\"./data/test.csv\", header=0)"
   ]
  },
  {
   "cell_type": "code",
   "execution_count": 33,
   "metadata": {
    "collapsed": false
   },
   "outputs": [],
   "source": [
    "# cleandata = taxidata[(taxidata.pickup_longitude > -74.1) & (taxidata.pickup_longitude < -73.8)]\n",
    "# cleandata = cleandata[(cleandata.pickup_latitude > 40.55) & (cleandata.pickup_latitude < 40.9)]\n",
    "\n",
    "# cleandata = cleandata[(cleandata.dropoff_longitude > -74.1) & (cleandata.dropoff_longitude < -73.8)]\n",
    "# cleandata = cleandata[(cleandata.dropoff_latitude > 40.55) & (cleandata.dropoff_latitude < 40.9)]\n",
    "\n",
    "cleandata = taxidata"
   ]
  },
  {
   "cell_type": "markdown",
   "metadata": {},
   "source": [
    "### Define train and test sets"
   ]
  },
  {
   "cell_type": "code",
   "execution_count": 34,
   "metadata": {
    "collapsed": false,
    "scrolled": true
   },
   "outputs": [],
   "source": [
    "itrain, itest = train_test_split(xrange(cleandata.shape[0]), train_size = 0.8)\n",
    "mask=np.ones(cleandata.shape[0], dtype='int')\n",
    "mask[itrain] = 1\n",
    "mask[itest] = 0\n",
    "mask = (mask == 1)"
   ]
  },
  {
   "cell_type": "markdown",
   "metadata": {},
   "source": [
    "### Drop all of the columns except for the pickup and dropoff"
   ]
  },
  {
   "cell_type": "code",
   "execution_count": 35,
   "metadata": {
    "collapsed": false
   },
   "outputs": [],
   "source": [
    "X = cleandata[[\"pickup_longitude\", \"pickup_latitude\"]]\n",
    "y = cleandata[[\"dropoff_longitude\", \"dropoff_latitude\"]]"
   ]
  },
  {
   "cell_type": "markdown",
   "metadata": {},
   "source": [
    "### Cluster the data"
   ]
  },
  {
   "cell_type": "code",
   "execution_count": 36,
   "metadata": {
    "collapsed": false
   },
   "outputs": [],
   "source": [
    "# xmatrix = X.as_matrix(columns=X.columns)\n",
    "# kmeans_x = KMeans(n_clusters=24, n_jobs=-1, random_state=0).fit(xmatrix)\n",
    "# centroids_x = kmeans_x.predict(xmatrix)\n",
    "# X = np.array([kmeans_x.cluster_centers_[i] for i in centroids_x])\n",
    "\n",
    "kmeans_y = KMeans(n_clusters=24, n_jobs=-1, random_state=0).fit(y)\n",
    "centroids_y = kmeans_y.predict(y)\n",
    "for i, row in y.iterrows():\n",
    "    if i < len(y):\n",
    "        y.set_value(i, \"centroid\", centroids_y[i])\n",
    "y = y[[\"centroid\"]]"
   ]
  },
  {
   "cell_type": "code",
   "execution_count": 37,
   "metadata": {
    "collapsed": false
   },
   "outputs": [
    {
     "name": "stdout",
     "output_type": "stream",
     "text": [
      "(799, 2)\n",
      "(100, 2)\n"
     ]
    }
   ],
   "source": [
    "Xtrain, Xtest, ytrain, ytest = X[mask], X[~mask], y[mask], y[~mask]\n",
    "n_samples = Xtrain.shape[0]\n",
    "n_features = Xtrain.shape[1]\n",
    "\n",
    "print Xtrain.shape\n",
    "max_samples = 100\n",
    "if Xtrain.shape[0] > max_samples:\n",
    "#     rows = random.sample(range(len(Xtrain)), max_samples)\n",
    "    rows = random.sample(Xtrain.index, max_samples)\n",
    "    Xtrain = Xtrain.ix[rows]\n",
    "    ytrain = ytrain.ix[rows]\n",
    "print Xtrain.shape"
   ]
  },
  {
   "cell_type": "markdown",
   "metadata": {},
   "source": [
    "### Visualizing the Data"
   ]
  },
  {
   "cell_type": "code",
   "execution_count": 38,
   "metadata": {
    "collapsed": false
   },
   "outputs": [
    {
     "data": {
      "image/png": "[encoded data removed]",
      "text/plain": [
       "<matplotlib.figure.Figure at 0x10a836510>"
      ]
     },
     "metadata": {},
     "output_type": "display_data"
    }
   ],
   "source": [
    "plt.rcParams['agg.path.chunksize'] = 100000\n",
    "plt.plot(Xtrain[\"pickup_longitude\"], Xtrain[\"pickup_latitude\"], 'ro', markersize=2, markeredgewidth=0)\n",
    "plt.grid(True)\n",
    "plt.axis([-74.4, -73.5, 40.55, 40.9])\n",
    "plt.show()\n",
    "\n",
    "# plt.plot(ytrain[\"dropoff_longitude\"], ytrain[\"dropoff_latitude\"], 'ro', markersize=2, markeredgewidth=0)\n",
    "# plt.grid(True)\n",
    "# plt.axis([-74.4, -73.5, 40.55, 40.9])\n",
    "# plt.show()"
   ]
  },
  {
   "cell_type": "markdown",
   "metadata": {},
   "source": [
    "### Optimizing the parameters"
   ]
  },
  {
   "cell_type": "code",
   "execution_count": 39,
   "metadata": {
    "collapsed": true
   },
   "outputs": [],
   "source": [
    "def cv_optimize(clf, parameters, X, y, n_jobs=1, n_folds=5, score_func=None, verbose=0):\n",
    "    if score_func:\n",
    "        gs = GridSearchCV(clf, param_grid=parameters, cv=n_folds, n_jobs=n_jobs, scoring=score_func, verbose=verbose)\n",
    "    else:\n",
    "        gs = GridSearchCV(clf, param_grid=parameters, n_jobs=n_jobs, cv=n_folds, verbose=verbose)\n",
    "    gs.fit(X, y)\n",
    "    print \"BEST\", gs.best_params_, gs.best_score_, gs.cv_results_, gs.scorer_\n",
    "    print \"Best score: \", gs.best_score_\n",
    "    best = gs.best_estimator_\n",
    "    return best"
   ]
  },
  {
   "cell_type": "code",
   "execution_count": 40,
   "metadata": {
    "collapsed": false
   },
   "outputs": [],
   "source": [
    "# clf = RandomForestRegressor(n_estimators=20, n_jobs=-1)\n",
    "clf = AdaBoostClassifier(n_estimators=20)"
   ]
  },
  {
   "cell_type": "code",
   "execution_count": 49,
   "metadata": {
    "collapsed": false,
    "scrolled": true
   },
   "outputs": [
    {
     "name": "stdout",
     "output_type": "stream",
     "text": [
      "Fitting 5 folds for each of 1 candidates, totalling 5 fits\n",
      "[CV] n_estimators=50, learning_rate=1 ................................\n",
      "[CV]  n_estimators=50, learning_rate=1, score=-87.033333, total=   0.2s\n",
      "[CV] n_estimators=50, learning_rate=1 ................................\n"
     ]
    },
    {
     "name": "stderr",
     "output_type": "stream",
     "text": [
      "[Parallel(n_jobs=1)]: Done   1 out of   1 | elapsed:    0.2s remaining:    0.0s\n",
      "[Parallel(n_jobs=1)]: Done   2 out of   2 | elapsed:    0.3s remaining:    0.0s\n"
     ]
    },
    {
     "name": "stdout",
     "output_type": "stream",
     "text": [
      "[CV]  n_estimators=50, learning_rate=1, score=-46.681818, total=   0.1s\n",
      "[CV] n_estimators=50, learning_rate=1 ................................\n",
      "[CV]  n_estimators=50, learning_rate=1, score=-64.055556, total=   0.1s\n",
      "[CV] n_estimators=50, learning_rate=1 ................................\n",
      "[CV]  n_estimators=50, learning_rate=1, score=-67.187500, total=   0.1s\n",
      "[CV] n_estimators=50, learning_rate=1 ................................\n",
      "[CV]  n_estimators=50, learning_rate=1, score=-54.000000, total=   0.1s\n",
      "BEST {'n_estimators': 50, 'learning_rate': 1} -66.22 {'rank_test_score': array([1], dtype=int32), 'std_score_time': array([ 0.00122653]), 'split2_test_score': array([-64.05555556]), 'mean_fit_time': array([ 0.11957507]), 'split3_train_score': array([-60.63095238]), 'std_test_score': array([ 15.35709564]), 'params': ({'n_estimators': 50, 'learning_rate': 1},), 'std_fit_time': array([ 0.01803031]), 'std_train_score': array([ 15.30707293]), 'split4_test_score': array([-54.]), 'split1_train_score': array([-48.33333333]), 'split2_train_score': array([-51.63414634]), 'split3_test_score': array([-67.1875]), 'split4_train_score': array([-53.77906977]), 'mean_score_time': array([ 0.00511436]), 'split0_train_score': array([-90.51428571]), 'mean_train_score': array([-60.97835751]), 'param_learning_rate': masked_array(data = [1],\n",
      "             mask = [False],\n",
      "       fill_value = ?)\n",
      ", 'split0_test_score': array([-87.03333333]), 'mean_test_score': array([-66.22]), 'param_n_estimators': masked_array(data = [50],\n",
      "             mask = [False],\n",
      "       fill_value = ?)\n",
      ", 'split1_test_score': array([-46.68181818])} make_scorer(mean_squared_error, greater_is_better=False)\n",
      "Best score:  -66.22\n"
     ]
    },
    {
     "name": "stderr",
     "output_type": "stream",
     "text": [
      "[Parallel(n_jobs=1)]: Done   5 out of   5 | elapsed:    0.7s finished\n"
     ]
    }
   ],
   "source": [
    "# %%time\n",
    "# parameters = {\n",
    "#     \"n_estimators\": [50],  \n",
    "#     \"max_features\": [\"auto\"],\n",
    "#     \"max_depth\": [50]\n",
    "# }\n",
    "\n",
    "parameters = {\n",
    "    \"n_estimators\": [50],\n",
    "    \"learning_rate\": [1]\n",
    "}\n",
    "\n",
    "best = cv_optimize(clf, parameters, Xtrain, ytrain.as_matrix().flatten(), n_folds=5, score_func='neg_mean_squared_error', verbose=3)"
   ]
  },
  {
   "cell_type": "markdown",
   "metadata": {},
   "source": [
    "### Train with the data"
   ]
  },
  {
   "cell_type": "code",
   "execution_count": 50,
   "metadata": {
    "collapsed": false
   },
   "outputs": [
    {
     "name": "stdout",
     "output_type": "stream",
     "text": [
      "############# based on standard predict ################\n",
      "R^2 on training data: 0.2400\n",
      "R^2 on test data:     0.1800\n",
      "CPU times: user 142 ms, sys: 4.61 ms, total: 147 ms\n",
      "Wall time: 147 ms\n"
     ]
    }
   ],
   "source": [
    "%%time\n",
    "reg = best.fit(Xtrain, ytrain)\n",
    "training_accuracy = reg.score(Xtrain, ytrain)\n",
    "test_accuracy = reg.score(Xtest, ytest)\n",
    "print \"############# based on standard predict ################\"\n",
    "print \"R^2 on training data: %0.4f\" % (training_accuracy)\n",
    "print \"R^2 on test data:     %0.4f\" % (test_accuracy)"
   ]
  },
  {
   "cell_type": "code",
   "execution_count": 14,
   "metadata": {
    "collapsed": false
   },
   "outputs": [
    {
     "data": {
      "text/plain": [
       "array([[-73.98860868,  40.73697467]])"
      ]
     },
     "execution_count": 14,
     "metadata": {},
     "output_type": "execute_result"
    }
   ],
   "source": [
    "best.predict([[-73.990371704101563, 40.734695434570313]])"
   ]
  },
  {
   "cell_type": "code",
   "execution_count": null,
   "metadata": {
    "collapsed": true
   },
   "outputs": [],
   "source": []
  }
 ],
 "metadata": {
  "kernelspec": {
   "display_name": "Python 2",
   "language": "python",
   "name": "python2"
  },
  "language_info": {
   "codemirror_mode": {
    "name": "ipython",
    "version": 2
   },
   "file_extension": ".py",
   "mimetype": "text/x-python",
   "name": "python",
   "nbconvert_exporter": "python",
   "pygments_lexer": "ipython2",
   "version": "2.7.12"
  }
 },
 "nbformat": 4,
 "nbformat_minor": 2
}
